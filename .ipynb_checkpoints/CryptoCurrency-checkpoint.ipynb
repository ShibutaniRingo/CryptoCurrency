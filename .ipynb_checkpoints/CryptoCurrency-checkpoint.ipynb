{
 "cells": [
  {
   "cell_type": "code",
   "execution_count": 7,
   "metadata": {},
   "outputs": [],
   "source": [
    "import numpy as np\n",
    "import pandas as pd\n",
    "#change the path here if necessary\n",
    "data_Bitmex = pd.read_csv(\"/Users/jizngziwei/Downloads/Bitmex/Depth_20200101_btc_usd.csv\")\n",
    "data_okex = pd.read_csv(\"/Users/jizngziwei/Downloads/okex/Depth_20200101_btc_usd.csv\")"
   ]
  },
  {
   "cell_type": "code",
   "execution_count": 8,
   "metadata": {},
   "outputs": [],
   "source": [
    "import time\n",
    "import datetime\n",
    "from datetime import date\n",
    "def timestampProcess(data):\n",
    "    data[\"DateTime\"] = pd.Series(list(map(lambda x: time.strptime(x, \"%Y-%m-%d %H:%M:%S.%f\"), data[\"DateTime\"])))\n",
    "    return data"
   ]
  },
  {
   "cell_type": "code",
   "execution_count": 9,
   "metadata": {},
   "outputs": [],
   "source": [
    "#if you are the first time run this notebook, run code below\n",
    "data_Bitmex = timestampProcess(data_Bitmex)\n",
    "data_okex = timestampProcess(data_okex)"
   ]
  },
  {
   "cell_type": "code",
   "execution_count": 10,
   "metadata": {},
   "outputs": [],
   "source": [
    "import re\n",
    "def getBidsPrice(data):\n",
    "    pattern = r'BidsPrice'\n",
    "    index_list = [\"DateTime\"]\n",
    "    for idx in list(data.index):\n",
    "        if re.search(pattern, idx):\n",
    "            index_list.append(idx)\n",
    "    return data[index_list]\n",
    "def getBidsQuantity(data):\n",
    "    pattern = r'BidsQuantity'\n",
    "    index_list = [\"DateTime\"]\n",
    "    for idx in list(data.index):\n",
    "        if re.search(pattern, idx):\n",
    "            index_list.append(idx)\n",
    "    return data[index_list]\n",
    "def getAsksPrice(data):\n",
    "    pattern = r'AsksPrice'\n",
    "    index_list = [\"DateTime\"]\n",
    "    for idx in list(data.index):\n",
    "        if re.search(pattern, idx):\n",
    "            index_list.append(idx)\n",
    "    return data[index_list]\n",
    "def getAsksQuantity(data):\n",
    "    pattern = r'AsksQuantity'\n",
    "    index_list = [\"DateTime\"]\n",
    "    for idx in list(data.index):\n",
    "        if re.search(pattern, idx):\n",
    "            index_list.append(idx)\n",
    "    return data[index_list]\n",
    "def getAvgPrice(data):\n",
    "    return data.iloc[1:].mean()"
   ]
  },
  {
   "cell_type": "code",
   "execution_count": 25,
   "metadata": {},
   "outputs": [],
   "source": [
    "def profitPerTrans(data1, data2, ticker, budget):\n",
    "    #ticker= True: data1_bid>data2_ask, Buy index2 sell to index1\n",
    "    if ticker == True:\n",
    "        BidsPrice = getBidsPrice(data1)\n",
    "        BidsQuantity = getBidsQuantity(data1)\n",
    "        AsksPrice = getAsksPrice(data2)\n",
    "        AsksQuantity = getAsksQuantity(data2)\n",
    "    elif ticker == False:\n",
    "        BidsPrice = getBidsPrice(data2)\n",
    "        BidsQuantity = getBidsQuantity(data2)\n",
    "        AsksPrice = getAsksPrice(data1)\n",
    "        AsksQuantity = getAsksQuantity(data1)\n",
    "    else:\n",
    "       # print(\"No profitable chance.\")\n",
    "        return\n",
    "    if BidsPrice[0] <= AsksPrice[0]:\n",
    "        #you can change time interval limit here\n",
    "       #     print(\"Unable to make transaction because of time interval problem.\")\n",
    "            return\n",
    "    current_position = 0\n",
    "    TransQuantity = []\n",
    "    PriceDiff = []\n",
    "    for i in range(1,min(len(BidsQuantity),len(AsksQuantity))):\n",
    "        if current_position < budget:\n",
    "            TransQuantity.append(min(BidsQuantity[i], AsksQuantity[i]))\n",
    "            current_position = np.dot(np.array(TransQuantity), AsksPrice[1:i+1])\n",
    "            PriceDiff.append(BidsPrice[i] - AsksPrice[i])\n",
    "        else:\n",
    "            continue\n",
    "    return np.dot(TransQuantity, PriceDiff)"
   ]
  },
  {
   "cell_type": "code",
   "execution_count": 12,
   "metadata": {},
   "outputs": [],
   "source": [
    "def getTicker(data1, data2):\n",
    "     #ticker= True: data1_bid>data2_ask, Buy index2 sell to index1\n",
    "    ticker = None\n",
    "    if getAvgPrice(getBidsPrice(data1))> getAvgPrice(getAsksPrice(data2)):\n",
    "        ticker = True\n",
    "    elif getAvgPrice(getBidsPrice(data2)) > getAvgPrice(getAsksPrice(data1)):\n",
    "        ticker = False\n",
    "    return ticker"
   ]
  },
  {
   "cell_type": "code",
   "execution_count": 80,
   "metadata": {},
   "outputs": [
    {
     "data": {
      "text/plain": [
       "12374.699999998846"
      ]
     },
     "execution_count": 80,
     "metadata": {},
     "output_type": "execute_result"
    }
   ],
   "source": [
    "data1 = data_Bitmex.iloc[2172,:]\n",
    "data2 = data_okex.iloc[3358,:]\n",
    "\n",
    "profitPerTrans(data1, data2, getTicker(data1, data2), 100000)"
   ]
  },
  {
   "cell_type": "code",
   "execution_count": 90,
   "metadata": {},
   "outputs": [],
   "source": [
    "def sortedDictValues1(adict): \n",
    "    new_dict = {}\n",
    "    for key in sorted(adict.keys()):\n",
    "        new_dict[key] = adict[key]\n",
    "    return new_dict"
   ]
  },
  {
   "cell_type": "code",
   "execution_count": 91,
   "metadata": {},
   "outputs": [],
   "source": [
    "import random\n",
    "from random import *\n",
    "\n",
    "def generateIntervalSeries(start,end,k):\n",
    "    s = sorted(sample(range(start,end),k))\n",
    "    result = {}\n",
    "    for i in range(len(s)-1):\n",
    "        for j in range(i,len(s)):\n",
    "        \n",
    "            data1 = data_Bitmex.iloc[s[i],:]\n",
    "            data2 = data_okex.iloc[s[j],:]\n",
    "            \n",
    "            if profitPerTrans(data1, data2, getTicker(data1, data2), 100000)==None:\n",
    "                j=j+1\n",
    "            elif profitPerTrans(data1, data2, getTicker(data1, data2), 100000) > 100 and i !=j:\n",
    "                #you can change the limit for comission here\n",
    "                result[s[i]] = s[j]\n",
    "                i=j\n",
    "                j=i+1\n",
    "            else:\n",
    "                j=j+1\n",
    "    return sortedDictValues1(result)"
   ]
  },
  {
   "cell_type": "code",
   "execution_count": 123,
   "metadata": {},
   "outputs": [],
   "source": [
    "intervalSeries = generateIntervalSeries(0,len(data_Bitmex),200)"
   ]
  },
  {
   "cell_type": "code",
   "execution_count": 132,
   "metadata": {},
   "outputs": [],
   "source": [
    "def grossProfit(intervalSeries):\n",
    "    profit = 0\n",
    "    for i in intervalSeries.keys():\n",
    "        j = intervalSeries[i]\n",
    "        data1 = data_Bitmex.iloc[i,:]\n",
    "        data2 = data_okex.iloc[j,:]\n",
    "        profit = profit + profitPerTrans(data1, data2, getTicker(data1, data2), 100000)\n",
    "    return profit"
   ]
  },
  {
   "cell_type": "code",
   "execution_count": 133,
   "metadata": {},
   "outputs": [
    {
     "data": {
      "text/plain": [
       "3903143.699999981"
      ]
     },
     "execution_count": 133,
     "metadata": {},
     "output_type": "execute_result"
    }
   ],
   "source": [
    "grossProfit(intervalSeries)"
   ]
  },
  {
   "cell_type": "code",
   "execution_count": null,
   "metadata": {},
   "outputs": [],
   "source": []
  },
  {
   "cell_type": "code",
   "execution_count": null,
   "metadata": {},
   "outputs": [],
   "source": []
  }
 ],
 "metadata": {
  "kernelspec": {
   "display_name": "Python 3",
   "language": "python",
   "name": "python3"
  },
  "language_info": {
   "codemirror_mode": {
    "name": "ipython",
    "version": 3
   },
   "file_extension": ".py",
   "mimetype": "text/x-python",
   "name": "python",
   "nbconvert_exporter": "python",
   "pygments_lexer": "ipython3",
   "version": "3.6.8"
  }
 },
 "nbformat": 4,
 "nbformat_minor": 2
}
